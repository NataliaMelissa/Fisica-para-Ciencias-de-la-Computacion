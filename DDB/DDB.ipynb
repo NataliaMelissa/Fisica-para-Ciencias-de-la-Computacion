{
  "nbformat": 4,
  "nbformat_minor": 0,
  "metadata": {
    "colab": {
      "name": "DDB.ipynb",
      "provenance": [],
      "collapsed_sections": []
    },
    "kernelspec": {
      "name": "python3",
      "display_name": "Python 3"
    },
    "language_info": {
      "name": "python"
    }
  },
  "cells": [
    {
      "cell_type": "markdown",
      "metadata": {
        "id": "pf4MqoNp8i39"
      },
      "source": [
        "# DDB"
      ]
    },
    {
      "cell_type": "markdown",
      "metadata": {
        "id": "l4FGYWNOS4IE"
      },
      "source": [
        "#### Librerias"
      ]
    },
    {
      "cell_type": "code",
      "metadata": {
        "id": "nE93AB5uSydJ"
      },
      "source": [
        "import math\n",
        "import numpy as np\n",
        "import matplotlib.pyplot as plt"
      ],
      "execution_count": null,
      "outputs": []
    },
    {
      "cell_type": "markdown",
      "metadata": {
        "id": "TkKWh6ODq1w3"
      },
      "source": [
        "#### Variables"
      ]
    },
    {
      "cell_type": "code",
      "metadata": {
        "id": "wwJiMiAnMZFt"
      },
      "source": [
        "#Insertando parametros\n",
        "X = 2 #@param {type:\"slider\", min:2, max:1000, step:1}\n",
        "lamda = 20 #@param {type:\"slider\", min:20, max:80, step:1}\n",
        "\n",
        "\n"
      ],
      "execution_count": null,
      "outputs": []
    },
    {
      "cell_type": "code",
      "metadata": {
        "id": "9BLDcXnm8KT5"
      },
      "source": [
        "x = X #Distancia entre el punto P y la carga\n",
        "y1 = 0 #Valor del eje y+ en la barra (comienza en 0)\n",
        "lamb = lamda #Valor de la Densidad lineal de carga q\n",
        "E0 = 8.85 * pow(10, -12) #Valor teórico del campo eléctrico\n",
        "k = 9 * pow(10, 9) #Valor de k\n",
        "dy = 0.01 #cambio en el eje y\n",
        "q = lamb * dy #Valor de la carga"
      ],
      "execution_count": null,
      "outputs": []
    },
    {
      "cell_type": "markdown",
      "metadata": {
        "id": "uPO8aV8Zrva8"
      },
      "source": [
        "#### Valor del Campo eléctrico teórico"
      ]
    },
    {
      "cell_type": "code",
      "metadata": {
        "id": "wlcpS3YZrkZ6",
        "colab": {
          "base_uri": "https://localhost:8080/"
        },
        "outputId": "a6e57079-f58e-42ee-d5f1-8b874db6f2ed"
      },
      "source": [
        "E = 0 #Campo eléctrico teórico\n",
        "\n",
        "def CampoElectricoT(k, x, E0, lamb):\n",
        "  E = lamb / (2* math.pi* E0 * x)\n",
        "  return E\n",
        "\n",
        "E = CampoElectricoT(k,x,E0,lamb)\n",
        "print(\"El valor del campo eléctrico teórico es: \", E)"
      ],
      "execution_count": null,
      "outputs": [
        {
          "output_type": "stream",
          "text": [
            "El valor del campo eléctrico teórico es:  179836093889.1473\n"
          ],
          "name": "stdout"
        }
      ]
    },
    {
      "cell_type": "markdown",
      "metadata": {
        "id": "AxjVhqAnsh3t"
      },
      "source": [
        "#### Cálculo del Campo Eléctrico de la barra"
      ]
    },
    {
      "cell_type": "code",
      "metadata": {
        "id": "obLP3wYusiea",
        "colab": {
          "base_uri": "https://localhost:8080/"
        },
        "outputId": "232d1023-73f5-40f0-e45d-5ab25d577e51"
      },
      "source": [
        "Eb = 0\n",
        "ang = 0\n",
        "#Iterar hasta que el hasta angulo se acercque a 90 o que la diferencia entre En - En+1 sea mínima\n",
        "\n",
        "def Posiciones(y1,dy):\n",
        "  y1 += dy\n",
        "\n",
        "def ValorR(x,y):\n",
        "  r = math.sqrt(pow(x,2) + pow(y,2))\n",
        "  return r\n",
        "\n",
        "def Angulo(x,r): \n",
        "  ang = math.acos(x/r) #acos = arcoseno para obtener el ángulo\n",
        "  return ang\n",
        "\n",
        "def dCarga(dy,lamda):\n",
        "  dCarga = dy*lamda\n",
        "  return dCarga\n",
        "\n",
        "def CampoElectricoB(x,y1,dy,k):\n",
        "  E = 0 #Campo eléctrico a retornar\n",
        "  Ei = 0 #Campo eléctrico en la iteración i\n",
        "  i = 0 #número de iteraciones\n",
        "  r = 0 #Distancia de la particula al punto P\n",
        "  Particulas = [] #Vector de partículas en la barra\n",
        "  y = y1 #sera la y actual \n",
        "  ang = 0 #ángulo\n",
        "  q = dCarga(dy,lamda)\n",
        "\n",
        "  while(True):\n",
        "    r = ValorR(x,y)\n",
        "    ang = Angulo(x,r)\n",
        "    if (85.0 <= ang): #rompe cuando el angulo es mayor a 85\n",
        "      print(\"salio en angulo\")\n",
        "      print(i)\n",
        "      break\n",
        "    \n",
        "    Ea = 2*((k*q) / pow(r,2)) * math.cos(ang)\n",
        "    # print(Ea)\n",
        "    if i > 0 and Ei - Ea < 0.01: #Si la diferencia es menor a 0.01 entonces detiene el ciclo;\n",
        "      print(\"salio en valor\")\n",
        "      print(i)\n",
        "      break \n",
        "    Ei = Ea\n",
        "    E += Ei\n",
        "\n",
        "    # if i > 500:\n",
        "    #   print(\"salio por limite i\")\n",
        "    #   print(i)\n",
        "    #   break\n",
        "\n",
        "\n",
        "    i += 1\n",
        "    y += dy\n",
        "\n",
        "  return E\n",
        "\n",
        "Eb = CampoElectricoB(X,y1,dy,k)\n",
        "print(Eb)"
      ],
      "execution_count": null,
      "outputs": [
        {
          "output_type": "stream",
          "text": [
            "salio en valor\n",
            "38337\n",
            "180447550549.238\n"
          ],
          "name": "stdout"
        }
      ]
    },
    {
      "cell_type": "code",
      "metadata": {
        "id": "4UJQKxo0ojSV"
      },
      "source": [],
      "execution_count": null,
      "outputs": []
    },
    {
      "cell_type": "markdown",
      "metadata": {
        "id": "xPnW2R7esvH-"
      },
      "source": [
        "#### Comparación del Valor teórico con el obtenido "
      ]
    },
    {
      "cell_type": "code",
      "metadata": {
        "id": "RoscQJvDsvmN",
        "colab": {
          "base_uri": "https://localhost:8080/"
        },
        "outputId": "eb823cb9-8f6c-48fd-dedc-a78980340c61"
      },
      "source": [
        "Error = 0\n",
        "\n",
        "def PorcentajeError(Eb, E):\n",
        "  Error = (abs((E - Eb) / E)) * 100\n",
        "  return Error\n",
        "\n",
        "Error = PorcentajeError(Eb, E)\n",
        "print(\"El porcentaje de error del campo eléctrico obtenido con el valor teórico es de {a}%\".format(a = Error))"
      ],
      "execution_count": null,
      "outputs": [
        {
          "output_type": "stream",
          "text": [
            "El porcentaje de error del campo eléctrico obtenido con el valor teórico es de 0.34000775198531946%\n"
          ],
          "name": "stdout"
        }
      ]
    },
    {
      "cell_type": "markdown",
      "metadata": {
        "id": "hW6lt7-wvJg2"
      },
      "source": [
        "## Gráfico E vs x para x ≥ 2,00 m"
      ]
    },
    {
      "cell_type": "code",
      "metadata": {
        "id": "uaZTfRDyvQ3s",
        "colab": {
          "base_uri": "https://localhost:8080/"
        },
        "outputId": "e4df8663-2143-47b3-eda4-df19cf9deed9"
      },
      "source": [
        "#Los distintos valores de x para los campos:\n",
        "x0 = 2\n",
        "x1 = 4\n",
        "x2 = 6\n",
        "x3 = 8\n",
        "x4 = 10\n",
        "x5 = 12\n",
        "x6 = 14\n",
        "x7 = 16\n",
        "x8 = 18\n",
        "x9 = 20\n",
        "x10 = 22\n",
        "\n",
        "#Los campos eléctricos para los distintos valores de x\n",
        "E0 = CampoElectricoB(x0,y1,dy,k)\n",
        "E1 = CampoElectricoB(x1,y1,dy,k)\n",
        "E2 = CampoElectricoB(x2,y1,dy,k)\n",
        "E3 = CampoElectricoB(x3,y1,dy,k)\n",
        "E4 = CampoElectricoB(x4,y1,dy,k)\n",
        "E5 = CampoElectricoB(x5,y1,dy,k)\n",
        "E6 = CampoElectricoB(x6,y1,dy,k)\n",
        "E7 = CampoElectricoB(x7,y1,dy,k)\n",
        "E8 = CampoElectricoB(x8,y1,dy,k)\n",
        "E9 = CampoElectricoB(x9,y1,dy,k)\n",
        "E10 = CampoElectricoB(x10,y1,dy,k)\n",
        "\n",
        "#Mostrar los valores de los campos con los diferentes valores de x\n",
        "print(\"El valor del campo con x = {a} es de: \".format(a = x0), E0)\n",
        "print(\"El valor del campo con x = {a} es de: \".format(a = x1), E1)\n",
        "print(\"El valor del campo con x = {a} es de: \".format(a = x2), E2)\n",
        "print(\"El valor del campo con x = {a} es de: \".format(a = x3), E3)\n",
        "print(\"El valor del campo con x = {a} es de: \".format(a = x4), E4)\n",
        "print(\"El valor del campo con x = {a} es de: \".format(a = x5), E5)\n",
        "print(\"El valor del campo con x = {a} es de: \".format(a = x6), E6)\n",
        "print(\"El valor del campo con x = {a} es de: \".format(a = x7), E7)\n",
        "print(\"El valor del campo con x = {a} es de: \".format(a = x8), E8)\n",
        "print(\"El valor del campo con x = {a} es de: \".format(a = x9), E9)\n",
        "print(\"El valor del campo con x = {a} es de: \".format(a = x10), E10)"
      ],
      "execution_count": null,
      "outputs": [
        {
          "output_type": "stream",
          "text": [
            "salio en valor\n",
            "38337\n",
            "salio en valor\n",
            "45589\n",
            "salio en valor\n",
            "50450\n",
            "salio en valor\n",
            "54210\n",
            "salio en valor\n",
            "57317\n",
            "salio en valor\n",
            "59986\n",
            "salio en valor\n",
            "62339\n",
            "salio en valor\n",
            "64450\n",
            "salio en valor\n",
            "66371\n",
            "salio en valor\n",
            "68137\n",
            "salio en valor\n",
            "69775\n",
            "El valor del campo con x = 2 es de:  180447550549.238\n",
            "El valor del campo con x = 4 es de:  90109035848.98872\n",
            "El valor del campo con x = 6 es de:  60045757088.6871\n",
            "El valor del campo con x = 8 es de:  45023225624.13362\n",
            "El valor del campo con x = 10 es de:  36012522100.68996\n",
            "El valor del campo con x = 12 es de:  30006498900.08946\n",
            "El valor del campo con x = 14 es de:  25716987170.22239\n",
            "El valor del campo con x = 16 es de:  22500100939.484703\n",
            "El valor del campo con x = 18 es de:  19998204404.656757\n",
            "El valor del campo con x = 20 es de:  17996750702.54506\n",
            "El valor del campo con x = 22 es de:  16359227477.511816\n"
          ],
          "name": "stdout"
        }
      ]
    },
    {
      "cell_type": "code",
      "metadata": {
        "colab": {
          "base_uri": "https://localhost:8080/",
          "height": 665
        },
        "id": "RS5-U454NoO4",
        "outputId": "0e69ed9f-931d-41b0-c375-f51f2c65de16"
      },
      "source": [
        "#Gráfico\n",
        "\n",
        "listaValores = np.zeros(11)\n",
        "dist = np.zeros(11)\n",
        "i = 2\n",
        "\n",
        "for n in range(11):\n",
        "  aux = CampoElectricoB(i,y1,dy,k)\n",
        "  i += 2\n",
        "  listaValores[n] = aux\n",
        "\n",
        "i = 2\n",
        "\n",
        "for n in range(11):\n",
        "  dist[n] = i\n",
        "  i += 2\n",
        "\n",
        "plt.plot(dist, listaValores)\n",
        "plt.xlabel(\"Posición en eje X (m)\")\n",
        "plt.ylabel(\"Valor del Campo Magnético (N/C)\")\n",
        "plt.show()"
      ],
      "execution_count": null,
      "outputs": [
        {
          "output_type": "stream",
          "text": [
            "salio en valor\n",
            "38337\n",
            "salio en valor\n",
            "45589\n",
            "salio en valor\n",
            "50450\n",
            "salio en valor\n",
            "54210\n",
            "salio en valor\n",
            "57317\n",
            "salio en valor\n",
            "59986\n",
            "salio en valor\n",
            "62339\n",
            "salio en valor\n",
            "64450\n",
            "salio en valor\n",
            "66371\n",
            "salio en valor\n",
            "68137\n",
            "salio en valor\n",
            "69775\n"
          ],
          "name": "stdout"
        },
        {
          "output_type": "display_data",
          "data": {
            "image/png": "[encoded data removed]",
            "text/plain": [
              "<Figure size 432x288 with 1 Axes>"
            ]
          },
          "metadata": {
            "tags": [],
            "needs_background": "light"
          }
        }
      ]
    }
  ]
}