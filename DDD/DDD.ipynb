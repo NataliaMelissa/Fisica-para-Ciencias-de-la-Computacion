{
  "nbformat": 4,
  "nbformat_minor": 0,
  "metadata": {
    "colab": {
      "name": "DDD.ipynb",
      "provenance": [],
      "collapsed_sections": []
    },
    "kernelspec": {
      "name": "python3",
      "display_name": "Python 3"
    },
    "language_info": {
      "name": "python"
    }
  },
  "cells": [
    {
      "cell_type": "markdown",
      "metadata": {
        "id": "8VxfVsiTB06n"
      },
      "source": [
        "# Librerias"
      ]
    },
    {
      "cell_type": "code",
      "metadata": {
        "id": "uYzKNglDB6j9"
      },
      "source": [
        "import math\n",
        "import numpy as np\n",
        "import matplotlib.pyplot as plt"
      ],
      "execution_count": null,
      "outputs": []
    },
    {
      "cell_type": "markdown",
      "metadata": {
        "id": "tIyxHN_A-Jio"
      },
      "source": [
        "# Variables"
      ]
    },
    {
      "cell_type": "code",
      "metadata": {
        "id": "AMuciOEg_XN6"
      },
      "source": [
        "#Punto 1:\n",
        "\n",
        "#@title Punto 1\n",
        "x1 = 4 #@param {type:\"integer\"}\n",
        "y1 = 3 #@param {type:\"integer\"}\n",
        "\n",
        "if x1 < 0:\n",
        "  x1 *= -1\n",
        "if y1 < 0:\n",
        "  y1 *= -1"
      ],
      "execution_count": null,
      "outputs": []
    },
    {
      "cell_type": "code",
      "metadata": {
        "colab": {
          "base_uri": "https://localhost:8080/"
        },
        "id": "J1DzUMRU_aIA",
        "outputId": "bbf2f756-7e85-4b84-919b-9c85caaf26e0"
      },
      "source": [
        "#Punto 2:\n",
        "\n",
        "#@title Punto 2\n",
        "x2 =  10#@param {type:\"integer\"}\n",
        "y2 = 15 #@param {type:\"integer\"}\n",
        "\n",
        "if x2 < 0:\n",
        "  x2 *= -1\n",
        "if x2 < x1:\n",
        "  aux = x2\n",
        "  x2 = x1\n",
        "  x1= aux\n",
        "if y2 > 0:\n",
        "  y2 *= -1\n",
        "\n",
        "print(\"p1: \",(x1,y1))\n",
        "print(\"p2: \",(x2,y2))"
      ],
      "execution_count": null,
      "outputs": [
        {
          "output_type": "stream",
          "text": [
            "p1:  (4, 3)\n",
            "p2:  (10, -15)\n"
          ],
          "name": "stdout"
        }
      ]
    },
    {
      "cell_type": "code",
      "metadata": {
        "id": "j6GSqDboDCTj",
        "colab": {
          "base_uri": "https://localhost:8080/"
        },
        "outputId": "c0552d64-540f-4b89-b363-baab0bd34790"
      },
      "source": [
        "#Variables actuales \n",
        "x = 0\n",
        "y = 0\n",
        "\n",
        "#Diferencial X\n",
        "dx = abs((x1-x2)/1000000)\n",
        "print( x1,x2)\n",
        "print(dx)\n",
        "\n",
        "#Ángulos (inicializados en 0):\n",
        "ang1 = 0\n",
        "ang2 = 0\n",
        "\n",
        "#d (inicializados en 0):\n",
        "d1 = 0\n",
        "d2 = 0\n",
        "dTotal = x1 + x2\n",
        "yTotal = y1 + y2\n",
        "\n",
        "#Índices de refracción de diferentes medios:\n",
        "n_Agua = 1.33\n",
        "n_Acrilico = 1.50\n",
        "n_Aire = 1.00\n",
        "n_Benceno = 1.50\n",
        "n_Etanol = 1.36\n",
        "n_Vidrio_Pyrex = 1.47\n",
        "n_Diamante = 2.42\n",
        "\n",
        "#Velocidades diferentes medios (inicializadas en 0 m/s):\n",
        "c = 3 * pow(10,8) #vacio\n",
        "V_Agua = 0\n",
        "V_Acrilico = 0\n",
        "V_Aire = 0\n",
        "V_Benceno = 0\n",
        "V_Etanol = 0\n",
        "V_Vidrio_Pyrex = 0\n",
        "V_Diamante = 0"
      ],
      "execution_count": null,
      "outputs": [
        {
          "output_type": "stream",
          "text": [
            "4 10\n",
            "6e-06\n"
          ],
          "name": "stdout"
        }
      ]
    },
    {
      "cell_type": "markdown",
      "metadata": {
        "id": "6r5-4FvpAtHh"
      },
      "source": [
        "# Fórmulas"
      ]
    },
    {
      "cell_type": "code",
      "metadata": {
        "id": "G5XOWlX0AxzY"
      },
      "source": [
        "#Función para la velocidad del medio \n",
        "def Velocidad(c, n):\n",
        "  v = c / n\n",
        "  return v\n",
        "\n",
        "#Función para obtener el tiempo:\n",
        "def Tiempo(x,x1,x2,y,y1,y2,v1,v2):\n",
        "  #Resultado de la resta de (Xi - X)^2\n",
        "  dif_X1 = pow((x1-x),2)\n",
        "  dif_X2 = pow((x2-x),2)\n",
        "\n",
        "  #Yi elevado al cuadrado\n",
        "  Y1 = pow(y1,2)\n",
        "  Y2 = pow(y2,2)\n",
        "  \n",
        "  t = (math.sqrt(dif_X1 + Y1) / v1) + (math.sqrt(dif_X2 + Y2) / v2)\n",
        "\n",
        "#Función para poder obtener los ángulos:\n",
        "def LeySnell(n1,ang1,n2,ang2):\n",
        "  z = n2 * sen(ang2)\n",
        "  ang1 = acos(z / n1)\n",
        "\n",
        "#Valor teórico de n (Para el porcentaje de Error):\n",
        "def NTeorico(n1,n2):\n",
        "  n = n2 / n1\n",
        "  return n\n",
        "\n",
        "#Valor a comparar con el nTeorico (nExperimental se le ha puesto de nombre):\n",
        "def NExperimental(ang1, ang2):\n",
        "  n = math.sin(math.radians(ang1)) / math.sin(math.radians(ang2))\n",
        "  return n"
      ],
      "execution_count": null,
      "outputs": []
    },
    {
      "cell_type": "markdown",
      "metadata": {
        "id": "0l6OWiDpEz4N"
      },
      "source": [
        "# Obtener la trayectoria de tiempo mínimo "
      ]
    },
    {
      "cell_type": "code",
      "metadata": {
        "id": "a8L0vpX7E47m"
      },
      "source": [
        "#Velocidades en diferentes medios:\n",
        "c = 3 * math.pow(10,8)\n",
        "V_Agua = Velocidad(c, n_Agua)\n",
        "V_Acrilico = Velocidad(c, n_Acrilico)\n",
        "V_Aire = Velocidad(c, n_Aire)\n",
        "V_Benceno = Velocidad(c, n_Benceno)\n",
        "V_Etanol = Velocidad(c, n_Etanol)\n",
        "V_Vidrio_Pyrex = Velocidad(c, n_Vidrio_Pyrex)\n",
        "V_Diamante = Velocidad(c, n_Diamante)\n",
        "\n",
        "#ángulos:\n",
        "ang1 = 0\n",
        "ang2 = 0\n",
        "\n"
      ],
      "execution_count": null,
      "outputs": []
    },
    {
      "cell_type": "code",
      "metadata": {
        "id": "SwhEiz6yIUCx",
        "colab": {
          "base_uri": "https://localhost:8080/"
        },
        "outputId": "96b8b56f-68a1-4bf6-9bc5-5957e3f6247d"
      },
      "source": [
        "##@title Trabajaremos con el indice del agua y del diamante.\n",
        "x = x1\n",
        "#aqui se guardan tuplas con la estructura (tiempo,x)\n",
        "tiempos = []\n",
        "xdiferentes = []\n",
        "xmin = 99999\n",
        "tmin = 99999 \n",
        "v1 = Velocidad(c, n_Agua)\n",
        "v2 = Velocidad(c, n_Diamante)\n",
        "\n",
        "while (x <= x2):\n",
        "  #Primero encontramos la distancia que debe recorrer en cada medio\n",
        "  #Medio 1\n",
        "  d1 = math.sqrt(math.pow(x-x1,2) + math.pow(y1,2))\n",
        "  \n",
        "  #Medio 2\n",
        "  d2 = math.sqrt(math.pow(x2-x, 2)+math.pow(y2,2))\n",
        "  \n",
        "\n",
        "  #Ahora usamos las velocidades que encontramos en los bloques anteriores.\n",
        "  #Recordamos que en este caso elegimos agua y diamante como los medios.\n",
        "  \n",
        "  \n",
        "  #Encontramos el tiempo que toma este recorrido\n",
        "  t = (d1/v1) + (d2/v2)\n",
        "\n",
        "  #actualizamos minimos\n",
        "  if t < tmin:\n",
        "    tmin = t\n",
        "    xmin = x\n",
        "    \n",
        "  #Lo guardamos en el arreglo exterior\n",
        "  tiempos.append(t)\n",
        "  xdiferentes.append(x)\n",
        "\n",
        "\n",
        "  x += dx\n",
        "\n",
        "print(\"El x de menor tiempo es: \", xmin)\n",
        "print(\"El tiempo que tarda el menor recorrido es: \",tmin)\n",
        "  \n",
        "\n"
      ],
      "execution_count": null,
      "outputs": [
        {
          "output_type": "stream",
          "text": [
            "El x de menor tiempo es:  5.72574399998576\n",
            "El tiempo que tarda el menor recorrido es:  1.4116009455996792e-07\n"
          ],
          "name": "stdout"
        }
      ]
    },
    {
      "cell_type": "markdown",
      "metadata": {
        "id": "6QA8h2vGHFu-"
      },
      "source": [
        "# Gráfico t vs x para cada rayo:"
      ]
    },
    {
      "cell_type": "code",
      "metadata": {
        "id": "He91e2iCHQIB"
      },
      "source": [
        "#Codigo del grafico\n",
        "def TiempoGrafico(d1,v1,d2,v2):\n",
        "  t = (d1 / v1) + (d2 / v2)\n",
        "\n",
        "\n",
        "\n"
      ],
      "execution_count": null,
      "outputs": []
    },
    {
      "cell_type": "code",
      "metadata": {
        "colab": {
          "base_uri": "https://localhost:8080/",
          "height": 638
        },
        "id": "KeHMgWnRuoFI",
        "outputId": "1c634e10-089c-4980-c357-4fecff85c20f"
      },
      "source": [
        "fig, ax = plt.subplots(2,figsize=(15, 10))\n",
        "ax[0].plot(xdiferentes,tiempos, color = 'purple')\n",
        "ax[0].plot(xmin,tmin,'g*')\n",
        "ax[0].title.set_text('Gráfico t vs x')\n",
        "ax[0].set_xlabel('Posición en el eje x/distancia (m)')\n",
        "ax[0].set_ylabel('Tiempo (s)')\n",
        "ax[0].legend(['Tiempo en segundos'])\n",
        "\n",
        "ax[1].plot([x1,xmin,x2],[y1,0,y2], color = 'turquoise')\n",
        "ax[1].title.set_text('Recorrido del rayo por ambos medios')\n",
        "ax[1].set_xlabel('Distancia/Recorrido del rayo (m)')\n",
        "ax[1].set_ylabel('Altura en los medios del recorrido del rayo (m)')\n",
        "ax[1].legend(['rayo'])"
      ],
      "execution_count": null,
      "outputs": [
        {
          "output_type": "execute_result",
          "data": {
            "text/plain": [
              "<matplotlib.legend.Legend at 0x7fe835986dd0>"
            ]
          },
          "metadata": {
            "tags": []
          },
          "execution_count": 66
        },
        {
          "output_type": "display_data",
          "data": {
            "image/png": "[encoded data removed]",
            "text/plain": [
              "<Figure size 1080x720 with 2 Axes>"
            ]
          },
          "metadata": {
            "tags": [],
            "needs_background": "light"
          }
        }
      ]
    },
    {
      "cell_type": "markdown",
      "metadata": {
        "id": "qfdBBNs_5Y-8"
      },
      "source": [
        "#Comprobando"
      ]
    },
    {
      "cell_type": "code",
      "metadata": {
        "colab": {
          "base_uri": "https://localhost:8080/"
        },
        "id": "vCaQp0Wm5fDj",
        "outputId": "6b5d2f7f-83cc-49ff-f26d-dcf64f00b801"
      },
      "source": [
        "#Primero encontramos los angulos segun el recorrido que encontramos\n",
        "#Ángulo del primer medio\n",
        "hip = math.sqrt(math.pow(xmin-x1,2) + math.pow(y1,2))\n",
        "ang1 = 90 - math.degrees(math.acos((xmin-x1)/hip))\n",
        "\n",
        "#Ángulo del segundo medio\n",
        "hip = math.sqrt(math.pow(x2-xmin,2) + math.pow(y2,2))\n",
        "ang2 = math.degrees(math.acos(abs(y2)/hip))\n",
        "\n",
        "print(\"El angulo del primero medio es: \",ang1)\n",
        "print(\"El angulo del segundo medio es: \",ang2)\n"
      ],
      "execution_count": null,
      "outputs": [
        {
          "output_type": "stream",
          "text": [
            "El angulo del primero medio es:  29.909579400108257\n",
            "El angulo del segundo medio es:  15.904923515753023\n"
          ],
          "name": "stdout"
        }
      ]
    },
    {
      "cell_type": "code",
      "metadata": {
        "colab": {
          "base_uri": "https://localhost:8080/"
        },
        "id": "MtMU3mJhDgeH",
        "outputId": "1e0d15ac-b255-435c-f7b5-6c513c72116e"
      },
      "source": [
        "#Diferencia entre la division de angulos menos la division de coeficientes del ambiente. (ver pdf)\n",
        "\n",
        "res1 = (math.sin(ang1)/math.sin(ang2))\n",
        "res2 = n_Diamante/n_Agua\n",
        "print(res1)\n",
        "print(res2)\n",
        "print(res1-res2)"
      ],
      "execution_count": null,
      "outputs": [
        {
          "output_type": "stream",
          "text": [
            "5.099533208535795\n",
            "1.819548872180451\n",
            "3.2799843363553443\n"
          ],
          "name": "stdout"
        }
      ]
    },
    {
      "cell_type": "code",
      "metadata": {
        "id": "J3uSVHjpDfmy"
      },
      "source": [],
      "execution_count": null,
      "outputs": []
    },
    {
      "cell_type": "markdown",
      "metadata": {
        "id": "AcyigMR0HTA5"
      },
      "source": [
        "# Porcentaje de Error"
      ]
    },
    {
      "cell_type": "code",
      "metadata": {
        "id": "SSadYdEkHVnR",
        "colab": {
          "base_uri": "https://localhost:8080/"
        },
        "outputId": "4a54324f-308a-4d27-b766-e2708a42b86a"
      },
      "source": [
        "Error = 0\n",
        "n1 = n_Agua\n",
        "n2 = n_Diamante\n",
        "nTeorico = NTeorico(n1,n2)\n",
        "nExperimental = NExperimental(ang1,ang2)\n",
        "\n",
        "def PorcentajeError(nTeorico, nExperimental):\n",
        "  Error = (abs((nTeorico - nExperimental) / nTeorico)) * 100\n",
        "  return Error\n",
        "\n",
        "Error = PorcentajeError(nTeorico, nExperimental)\n",
        "print(\"El porcentaje de error obtenido es {a}%\".format(a = Error))\n",
        "print(\"El valor de nTeórico es: \", nTeorico)\n",
        "print(\"El valor de nExperimental es: \", nExperimental)"
      ],
      "execution_count": null,
      "outputs": [
        {
          "output_type": "stream",
          "text": [
            "El porcentaje de error obtenido es 2.2225298880818313e-05%\n",
            "El valor de nTeórico es:  1.819548872180451\n",
            "El valor de nExperimental es:  1.819549276580626\n"
          ],
          "name": "stdout"
        }
      ]
    }
  ]
}